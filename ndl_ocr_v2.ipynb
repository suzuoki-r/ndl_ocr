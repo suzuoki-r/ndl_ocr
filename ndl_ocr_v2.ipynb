{
  "nbformat": 4,
  "nbformat_minor": 0,
  "metadata": {
    "colab": {
      "name": "ndl_ocr_v2.ipynb",
      "provenance": [],
      "private_outputs": true,
      "include_colab_link": true
    },
    "kernelspec": {
      "name": "python3",
      "display_name": "Python 3"
    },
    "language_info": {
      "name": "python"
    },
    "accelerator": "GPU"
  },
  "cells": [
    {
      "cell_type": "markdown",
      "metadata": {
        "id": "view-in-github",
        "colab_type": "text"
      },
      "source": [
        "<a href=\"https://colab.research.google.com/github/nakamura196/ndl_ocr/blob/main/ndl_ocr_v2.ipynb\" target=\"_parent\"><img src=\"https://colab.research.google.com/assets/colab-badge.svg\" alt=\"Open In Colab\"/></a>"
      ]
    },
    {
      "cell_type": "markdown",
      "source": [
        "# NDLOCRの実行例 Ver.2：Google Driveを用いた画像の入力と結果の保存\n",
        "\n",
        "Google Drive上のフォルダを指定して、当該フォルダに含まれる複数画像に対してOCR処理を実行し、指定したフォルダに認識結果を出力します。\n",
        "\n",
        "**本ノートブック（Ver.2）では、PDFファイルやIIIFマニフェストファイルの入力をサポートしています。また、実行後に認識結果をマージしたテキストファイルをダウンロードすることができます。**\n",
        "\n",
        "## 参考記事\n",
        "\n",
        "https://zenn.dev/nakamura196/articles/b6712981af3384\n",
        "\n",
        "## 参考にしたノートブック\n",
        "\n",
        "@blue0620 さんが作成したノートブック\n",
        "\n",
        "https://github.com/blue0620/NDLOCR-GoogleColabVersion/blob/main/NDLOCR_googlecolabversion.ipynb"
      ],
      "metadata": {
        "id": "eQa1CxUBl9Ap"
      }
    },
    {
      "cell_type": "markdown",
      "source": [
        "## 更新内容\n",
        "- 2023-06-15\n",
        "  - Google Colabで実行できない不具合を解消しました。プログラムを改修してくださったNDLおよび@blue0620さんに感謝申し上げます。\n",
        "- 2023-03-24\n",
        "  - ファイル名に半角スペースを含む場合に発生する不具合を修正しました。\n",
        "  - 初期セットアップに要する時間を改善しました。\n",
        "- 2023-01-18\n",
        "  - Google Colabの実行環境の更新に伴う本ノートブックの不具合を修正しました。（@blue0620さん、ありがとうございました。）\n",
        "  - 初期セットアップに要する時間を4分ほどに短縮しました。\n",
        "- 2022-07-05\n",
        "  - ルビのテキスト化を行うか否かの設定を追加しました。\n",
        "  - PDFを入力した際の不具合の修正しました。\n",
        "  - 出力結果の提示方法を修正しました。\n",
        "- 2022-05-02: 透明テキスト付きPDFの作成機能を追加しました。\n",
        "  - 出力フォルダの直下にPDFファイルが作成されます。\n",
        "  - 一部のオプションでは、実行後に自動的にPDFファイルがダウンロードされます。\n",
        "  - 作成されるPDFファイルは一部不完全なため、引き続き改良予定です。\n",
        "- 2022-05-03\n",
        "  - @blue0620 さんが作成された読み順付与機能を追加しました。\n",
        "  - https://twitter.com/blue0620/status/1521137895494787072"
      ],
      "metadata": {
        "id": "ZwcXZeaM3JEl"
      }
    },
    {
      "cell_type": "markdown",
      "source": [
        "## 使用方法\n",
        "\n",
        "- 「1.初期セットアップ」を実行してください。初回のみ実行が必要です。\n",
        "\n",
        "- 「2. 設定」を変更してください。"
      ],
      "metadata": {
        "id": "ec7zStxNmULI"
      }
    },
    {
      "cell_type": "markdown",
      "source": [
        "## 1.初期セットアップ\n",
        "\n",
        "４分ほど時間がかかります。初回のみ実行が必要です。"
      ],
      "metadata": {
        "id": "4ZbNG-S2mVRy"
      }
    },
    {
      "cell_type": "code",
      "source": [
        "#@title\n",
        "\n",
        "# Google Drive関連\n",
        "from google.colab import drive\n",
        "drive.mount('/content/drive/')\n",
        "from google.colab import files\n",
        "from IPython.display import clear_output\n",
        "!pip install kora\n",
        "from kora.xattr import get_id\n",
        "\n",
        "# 関連リポジトリ設定\n",
        "\n",
        "%cd \"/content/\"\n",
        "\n",
        "!rm -rf demo\n",
        "!git clone https://github.com/nakamura196/demo\n",
        "\n",
        "# 1. NDLOCRのリポジトリをcloneする(--recursiveを忘れずに！)\n",
        "!rm -rf ndlocr_cli\n",
        "!git clone --recursive https://github.com/ndl-lab/ndlocr_cli -b ver.1\n",
        "\n",
        "# 2. 必要なパッケージをインストールする\n",
        "PROJECT_DIR=\"/content/ndlocr_cli\"\n",
        "\n",
        "!pip install mmcv==2.0.0 -f https://download.openmmlab.com/mmcv/dist/cu118/torch2.0/index.html\n",
        "!pip install mmdet==3.0.0\n",
        "!pip install lmdb\n",
        "\n",
        "# # 4. OCRに必要な学習済みモデルをダウンロードする\n",
        "%cd $PROJECT_DIR\n",
        "!wget https://lab.ndl.go.jp/dataset/ndlocr/text_recognition/mojilist_NDL.txt -P ./src/text_recognition/models\n",
        "!wget https://lab.ndl.go.jp/dataset/ndlocr/text_recognition/ndlenfixed64-mj0-synth1.pth -P ./src/text_recognition/models\n",
        "# wget https://lab.ndl.go.jp/dataset/ndlocr/ndl_layout/ndl_layout_config.py -P ./src/ndl_layout/models\n",
        "!wget https://lab.ndl.go.jp/dataset/ndlocr/ndl_layout/epoch_140_all_eql_bt.pth -P ./src/ndl_layout/models\n",
        "!wget https://lab.ndl.go.jp/dataset/ndlocr/separate_pages_ssd/weights.hdf5 -P ./src/separate_pages_ssd/ssd_tools\n",
        "\n",
        "# 4.5. 拡張機能【読み順の自動ソート】を追加する\n",
        "!rm ./cli/core/inference.py\n",
        "!wget https://raw.githubusercontent.com/nakamura196/simple_reading_order/main/inference.py -P ./cli/core/\n",
        "!wget https://lab.ndl.go.jp/dataset/ndlocr/appendix/simple_reading_order_model.joblib -P .\n",
        "\n",
        "# 6. PDFを画像に変換するためのパッケージのインストール\n",
        "!apt-get install poppler-utils\n",
        "!pip install pdf2image\n",
        "\n",
        "# transparent\n",
        "!pip install python-bidi\n",
        "!pip install reportlab\n",
        "\n",
        "# 環境変数を追加する\n",
        "import os\n",
        "os.environ[\"PYTHONPATH\"]=os.environ[\"PYTHONPATH\"]+\":\"+f\"{PROJECT_DIR}/src/text_recognition/deep-text-recognition-benchmark\"\n",
        "\n",
        "!mv /content/demo/*.py $PROJECT_DIR\n",
        "\n",
        "# インポート\n",
        "from task import Task\n",
        "\n",
        "def message(ins):\n",
        "  print(\"以下に出力しました。\\nhttps://drive.google.com/drive/folders/{}\".format(get_id(ins.output_dir)))\n",
        "\n",
        "%cd $PROJECT_DIR\n",
        "\n",
        "# 出力結果のクリア\n",
        "clear_output()"
      ],
      "metadata": {
        "id": "ADBGbIClAgdX",
        "cellView": "form"
      },
      "execution_count": null,
      "outputs": []
    },
    {
      "cell_type": "markdown",
      "source": [
        "## 2.設定\n",
        "\n",
        "以下、入力方式によって適切なものを選んでください。\n",
        "\n",
        "- 画像\n",
        "  - [単一の画像ファイルのURLを指定する場合](#scrollTo=HugE-wRDxl5E)\n",
        "  - [単一の画像ファイルをアップロードする場合](#scrollTo=Hx0mBi_jk9_s)\n",
        "  - [複数の既にダウンロード済みの画像ファイルを対象にする場合](#scrollTo=OPICIT1-Z6_3)\n",
        "- PDF\n",
        "  - [単一のPDFファイルのURLを指定する場合](#scrollTo=jlitIIC5SkrR)\n",
        "  - [単一のPDFファイルをアップロードする場合](#scrollTo=yK5kvjlY1T3K)\n",
        "  - [単一の既にダウンロード済みのPDFファイルを対象にする場合](#scrollTo=4DFFxQECQtzJ)\n",
        "  - [複数の既にダウンロード済みのPDFファイルを格納したフォルダを指定する場合](#scrollTo=VXRz_3tn60v5)\n",
        "- IIIF\n",
        "  - [IIIFマニフェストファイルのURLを指定する場合](#scrollTo=LhMvDLsXUZde)"
      ],
      "metadata": {
        "id": "xeMV3Cnpp8nt"
      }
    },
    {
      "cell_type": "markdown",
      "source": [
        "## 画像"
      ],
      "metadata": {
        "id": "6VeHKTrnnbDs"
      }
    },
    {
      "cell_type": "markdown",
      "source": [
        "### 単一の画像ファイルのURLを指定する場合\n",
        "\n",
        "- url: 画像ファイルのURL\n",
        "- output_dir: 出力するフォルダへのパス\n",
        "- ruby: ルビのテキスト化を行うか否か\n",
        "\n",
        "入力サンプル：「校異源氏物語」（国立国会図書館所蔵）"
      ],
      "metadata": {
        "id": "HugE-wRDxl5E"
      }
    },
    {
      "cell_type": "code",
      "source": [
        "#@title 設定\n",
        "\n",
        "url = \"https://www.dl.ndl.go.jp/api/iiif/3437686/R0000006/full/full/0/default.jpg\" #@param {type:\"string\"}\n",
        "output_dir = \"/content/drive/MyDrive/ndl_ocr/output/image_url\" #@param {type:\"string\"}\n",
        "process = \"\\u3059\\u3079\\u3066: \\u30CE\\u30C9\\u5143\\u5206\\u5272,\\u50BE\\u304D\\u88DC\\u6B63,\\u30EC\\u30A4\\u30A2\\u30A6\\u30C8\\u62BD\\u51FA,\\u6587\\u5B57\\u8A8D\\u8B58(OCR)\" #@param [\"\\u3059\\u3079\\u3066: \\u30CE\\u30C9\\u5143\\u5206\\u5272,\\u50BE\\u304D\\u88DC\\u6B63,\\u30EC\\u30A4\\u30A2\\u30A6\\u30C8\\u62BD\\u51FA,\\u6587\\u5B57\\u8A8D\\u8B58(OCR)\", \"\\u50BE\\u304D\\u88DC\\u6B63,\\u30EC\\u30A4\\u30A2\\u30A6\\u30C8\\u62BD\\u51FA,\\u6587\\u5B57\\u8A8D\\u8B58(OCR)\", \"\\u30EC\\u30A4\\u30A2\\u30A6\\u30C8\\u62BD\\u51FA,\\u6587\\u5B57\\u8A8D\\u8B58(OCR)\", \"\\u6587\\u5B57\\u8A8D\\u8B58(OCR)\"]\n",
        "ruby = False #@param {type:\"boolean\"}\n",
        "\n",
        "ins = Task.imgFromUrl(url, output_dir, process, ruby)\n",
        "message(ins)"
      ],
      "metadata": {
        "id": "rKjOJXSExth7",
        "cellView": "form"
      },
      "execution_count": null,
      "outputs": []
    },
    {
      "cell_type": "markdown",
      "source": [
        "### 単一の画像ファイルをアップロードする場合\n",
        "\n",
        "- output_dir: 出力するフォルダへのパス\n",
        "- ruby: ルビのテキスト化を行うか否か\n",
        "\n",
        "以下の設定の再生ボタンを押すと、ファイルのアップロードフォームが表示されます。"
      ],
      "metadata": {
        "id": "Hx0mBi_jk9_s"
      }
    },
    {
      "cell_type": "code",
      "source": [
        "#@title 設定\n",
        "\n",
        "output_dir = \"/content/drive/MyDrive/ndl_ocr/output/image_local\" #@param {type:\"string\"}\n",
        "process = \"\\u3059\\u3079\\u3066: \\u30CE\\u30C9\\u5143\\u5206\\u5272,\\u50BE\\u304D\\u88DC\\u6B63,\\u30EC\\u30A4\\u30A2\\u30A6\\u30C8\\u62BD\\u51FA,\\u6587\\u5B57\\u8A8D\\u8B58(OCR)\" #@param [\"\\u3059\\u3079\\u3066: \\u30CE\\u30C9\\u5143\\u5206\\u5272,\\u50BE\\u304D\\u88DC\\u6B63,\\u30EC\\u30A4\\u30A2\\u30A6\\u30C8\\u62BD\\u51FA,\\u6587\\u5B57\\u8A8D\\u8B58(OCR)\", \"\\u50BE\\u304D\\u88DC\\u6B63,\\u30EC\\u30A4\\u30A2\\u30A6\\u30C8\\u62BD\\u51FA,\\u6587\\u5B57\\u8A8D\\u8B58(OCR)\", \"\\u30EC\\u30A4\\u30A2\\u30A6\\u30C8\\u62BD\\u51FA,\\u6587\\u5B57\\u8A8D\\u8B58(OCR)\", \"\\u6587\\u5B57\\u8A8D\\u8B58(OCR)\"]\n",
        "ruby = False #@param {type:\"boolean\"}\n",
        "\n",
        "uploaded = files.upload()\n",
        "input_file = next(iter(uploaded))\n",
        "\n",
        "ins = Task.imgFromLocal(input_file, output_dir, process, ruby)\n",
        "message(ins)"
      ],
      "metadata": {
        "id": "xxTSijexk9oX",
        "cellView": "form"
      },
      "execution_count": null,
      "outputs": []
    },
    {
      "cell_type": "markdown",
      "source": [
        "### 複数の既にダウンロード済みの画像ファイルを対象にする場合（Sigle input dir mode）\n",
        "\n",
        "- input_dir: 入力するフォルダのパス\n",
        "  - 指定したフォルダの下にimgフォルダを用意し、その中に画像を格納してください。\n",
        "- output_dir: 出力するフォルダへのパス\n",
        "- ruby: ルビのテキスト化を行うか否か"
      ],
      "metadata": {
        "id": "OPICIT1-Z6_3"
      }
    },
    {
      "cell_type": "code",
      "source": [
        "#@title 設定\n",
        "\n",
        "input_dir = \"/content/drive/MyDrive/ndl_ocr/input\" #@param {type:\"string\"}\n",
        "output_dir = \"/content/drive/MyDrive/ndl_ocr/output/image_single\" #@param {type:\"string\"}\n",
        "process = \"\\u3059\\u3079\\u3066: \\u30CE\\u30C9\\u5143\\u5206\\u5272,\\u50BE\\u304D\\u88DC\\u6B63,\\u30EC\\u30A4\\u30A2\\u30A6\\u30C8\\u62BD\\u51FA,\\u6587\\u5B57\\u8A8D\\u8B58(OCR)\" #@param [\"\\u3059\\u3079\\u3066: \\u30CE\\u30C9\\u5143\\u5206\\u5272,\\u50BE\\u304D\\u88DC\\u6B63,\\u30EC\\u30A4\\u30A2\\u30A6\\u30C8\\u62BD\\u51FA,\\u6587\\u5B57\\u8A8D\\u8B58(OCR)\", \"\\u50BE\\u304D\\u88DC\\u6B63,\\u30EC\\u30A4\\u30A2\\u30A6\\u30C8\\u62BD\\u51FA,\\u6587\\u5B57\\u8A8D\\u8B58(OCR)\", \"\\u30EC\\u30A4\\u30A2\\u30A6\\u30C8\\u62BD\\u51FA,\\u6587\\u5B57\\u8A8D\\u8B58(OCR)\", \"\\u6587\\u5B57\\u8A8D\\u8B58(OCR)\"]\n",
        "ruby = False #@param {type:\"boolean\"}\n",
        "\n",
        "ins = Task.imgFromLocalDir(input_dir, output_dir, process, ruby)\n",
        "message(ins)"
      ],
      "metadata": {
        "id": "ys38ZqIqaC55",
        "cellView": "form"
      },
      "execution_count": null,
      "outputs": []
    },
    {
      "cell_type": "markdown",
      "source": [
        "## PDF"
      ],
      "metadata": {
        "id": "P0wwJefsnGr7"
      }
    },
    {
      "cell_type": "markdown",
      "source": [
        "### 単一のPDFファイルのURLを指定する場合\n",
        "\n",
        "- url: PDFファイルのURL\n",
        "- output_dir: 出力するフォルダへのパス\n",
        "- ruby: ルビのテキスト化を行うか否か\n",
        "\n",
        "入力サンプル：「東洋学芸雑誌」（人間文化研究機構国立国語研究所所蔵）"
      ],
      "metadata": {
        "id": "jlitIIC5SkrR"
      }
    },
    {
      "cell_type": "code",
      "source": [
        "#@title 設定\n",
        "\n",
        "url = \"https://dglb01.ninjal.ac.jp/ninjaldl/toyogakuge/001/PDF/tygz-001.pdf\" #@param {type:\"string\"}\n",
        "output_dir = \"/content/drive/MyDrive/ndl_ocr/output/pdf_url\" #@param {type:\"string\"}\n",
        "process = \"\\u30EC\\u30A4\\u30A2\\u30A6\\u30C8\\u62BD\\u51FA,\\u6587\\u5B57\\u8A8D\\u8B58(OCR)\" #@param [\"\\u3059\\u3079\\u3066: \\u30CE\\u30C9\\u5143\\u5206\\u5272,\\u50BE\\u304D\\u88DC\\u6B63,\\u30EC\\u30A4\\u30A2\\u30A6\\u30C8\\u62BD\\u51FA,\\u6587\\u5B57\\u8A8D\\u8B58(OCR)\", \"\\u50BE\\u304D\\u88DC\\u6B63,\\u30EC\\u30A4\\u30A2\\u30A6\\u30C8\\u62BD\\u51FA,\\u6587\\u5B57\\u8A8D\\u8B58(OCR)\", \"\\u30EC\\u30A4\\u30A2\\u30A6\\u30C8\\u62BD\\u51FA,\\u6587\\u5B57\\u8A8D\\u8B58(OCR)\", \"\\u6587\\u5B57\\u8A8D\\u8B58(OCR)\"]\n",
        "ruby = False #@param {type:\"boolean\"}\n",
        "\n",
        "ins = Task.pdfFromUrl(url, output_dir, process, ruby)\n",
        "message(ins)"
      ],
      "metadata": {
        "id": "_4LUHvYqCcxD",
        "cellView": "form"
      },
      "execution_count": null,
      "outputs": []
    },
    {
      "cell_type": "markdown",
      "source": [
        "### 単一のPDFファイルをアップロードする場合\n",
        "\n",
        "- output_dir: 出力するフォルダへのパス\n",
        "- ruby: ルビのテキスト化を行うか否か\n",
        "\n",
        "以下の設定の再生ボタンを押すと、ファイルのアップロードフォームが表示されます。"
      ],
      "metadata": {
        "id": "yK5kvjlY1T3K"
      }
    },
    {
      "cell_type": "code",
      "source": [
        "#@title 設定\n",
        "\n",
        "output_dir = \"/content/drive/MyDrive/ndl_ocr/output/image_local\" #@param {type:\"string\"}\n",
        "process = \"\\u30EC\\u30A4\\u30A2\\u30A6\\u30C8\\u62BD\\u51FA,\\u6587\\u5B57\\u8A8D\\u8B58(OCR)\" #@param [\"\\u3059\\u3079\\u3066: \\u30CE\\u30C9\\u5143\\u5206\\u5272,\\u50BE\\u304D\\u88DC\\u6B63,\\u30EC\\u30A4\\u30A2\\u30A6\\u30C8\\u62BD\\u51FA,\\u6587\\u5B57\\u8A8D\\u8B58(OCR)\", \"\\u50BE\\u304D\\u88DC\\u6B63,\\u30EC\\u30A4\\u30A2\\u30A6\\u30C8\\u62BD\\u51FA,\\u6587\\u5B57\\u8A8D\\u8B58(OCR)\", \"\\u30EC\\u30A4\\u30A2\\u30A6\\u30C8\\u62BD\\u51FA,\\u6587\\u5B57\\u8A8D\\u8B58(OCR)\", \"\\u6587\\u5B57\\u8A8D\\u8B58(OCR)\"]\n",
        "ruby = False #@param {type:\"boolean\"}\n",
        "\n",
        "uploaded = files.upload()\n",
        "input_file = next(iter(uploaded))\n",
        "\n",
        "ins = Task.pdfFromLocal(input_file, output_dir, process, ruby)\n",
        "message(ins)"
      ],
      "metadata": {
        "id": "iapSiUCc1TZz",
        "cellView": "form"
      },
      "execution_count": null,
      "outputs": []
    },
    {
      "cell_type": "markdown",
      "source": [
        "### 単一の既にダウンロード済みのPDFファイルを対象にする場合\n",
        "\n",
        "- input_file: PDFファイルのパス\n",
        "- output_dir: 出力するフォルダへのパス\n",
        "- ruby: ルビのテキスト化を行うか否か"
      ],
      "metadata": {
        "id": "4DFFxQECQtzJ"
      }
    },
    {
      "cell_type": "code",
      "source": [
        "#@title　設定\n",
        "\n",
        "input_file = \"/content/drive/MyDrive/ndl_ocr/input/pdfs/tygz-001.pdf\" #@param {type:\"string\"}\n",
        "output_dir = \"/content/drive/MyDrive/ndl_ocr/output/pdf_local\" #@param {type:\"string\"}\n",
        "process = \"\\u3059\\u3079\\u3066: \\u30CE\\u30C9\\u5143\\u5206\\u5272,\\u50BE\\u304D\\u88DC\\u6B63,\\u30EC\\u30A4\\u30A2\\u30A6\\u30C8\\u62BD\\u51FA,\\u6587\\u5B57\\u8A8D\\u8B58(OCR)\" #@param [\"\\u3059\\u3079\\u3066: \\u30CE\\u30C9\\u5143\\u5206\\u5272,\\u50BE\\u304D\\u88DC\\u6B63,\\u30EC\\u30A4\\u30A2\\u30A6\\u30C8\\u62BD\\u51FA,\\u6587\\u5B57\\u8A8D\\u8B58(OCR)\", \"\\u50BE\\u304D\\u88DC\\u6B63,\\u30EC\\u30A4\\u30A2\\u30A6\\u30C8\\u62BD\\u51FA,\\u6587\\u5B57\\u8A8D\\u8B58(OCR)\", \"\\u30EC\\u30A4\\u30A2\\u30A6\\u30C8\\u62BD\\u51FA,\\u6587\\u5B57\\u8A8D\\u8B58(OCR)\", \"\\u6587\\u5B57\\u8A8D\\u8B58(OCR)\"]\n",
        "ruby = False #@param {type:\"boolean\"}\n",
        "\n",
        "ins = Task.pdfFromLocal(input_file, output_dir, process, ruby)\n",
        "message(ins)"
      ],
      "metadata": {
        "id": "vS6wUjUQq2ew",
        "cellView": "form"
      },
      "execution_count": null,
      "outputs": []
    },
    {
      "cell_type": "markdown",
      "source": [
        "### 複数の既にダウンロード済みのPDFファイルを格納したフォルダを指定する場合\n",
        "\n",
        "- input_dir: ダウンロード済みのPDFファイルを格納したフォルダ\n",
        "- output_dir: 出力するフォルダへのパス\n",
        "- ruby: ルビのテキスト化を行うか否か"
      ],
      "metadata": {
        "id": "VXRz_3tn60v5"
      }
    },
    {
      "cell_type": "code",
      "source": [
        "#@title　設定\n",
        "\n",
        "input_dir = \"/content/drive/MyDrive/ndl_ocr/input/pdfs\" #@param {type:\"string\"}\n",
        "output_dir = \"/content/drive/MyDrive/ndl_ocr/output/pdfs_local\" #@param {type:\"string\"}\n",
        "process = \"\\u3059\\u3079\\u3066: \\u30CE\\u30C9\\u5143\\u5206\\u5272,\\u50BE\\u304D\\u88DC\\u6B63,\\u30EC\\u30A4\\u30A2\\u30A6\\u30C8\\u62BD\\u51FA,\\u6587\\u5B57\\u8A8D\\u8B58(OCR)\" #@param [\"\\u3059\\u3079\\u3066: \\u30CE\\u30C9\\u5143\\u5206\\u5272,\\u50BE\\u304D\\u88DC\\u6B63,\\u30EC\\u30A4\\u30A2\\u30A6\\u30C8\\u62BD\\u51FA,\\u6587\\u5B57\\u8A8D\\u8B58(OCR)\", \"\\u50BE\\u304D\\u88DC\\u6B63,\\u30EC\\u30A4\\u30A2\\u30A6\\u30C8\\u62BD\\u51FA,\\u6587\\u5B57\\u8A8D\\u8B58(OCR)\", \"\\u30EC\\u30A4\\u30A2\\u30A6\\u30C8\\u62BD\\u51FA,\\u6587\\u5B57\\u8A8D\\u8B58(OCR)\", \"\\u6587\\u5B57\\u8A8D\\u8B58(OCR)\"]\n",
        "ruby = False #@param {type:\"boolean\"}\n",
        "\n",
        "ins = Task.pdfFromLocalDir(input_dir, output_dir, process, ruby)\n",
        "message(ins)"
      ],
      "metadata": {
        "id": "UnRA1hw97G6W",
        "cellView": "form"
      },
      "execution_count": null,
      "outputs": []
    },
    {
      "cell_type": "markdown",
      "source": [
        "## IIIF"
      ],
      "metadata": {
        "id": "1cXtSC0RpEeC"
      }
    },
    {
      "cell_type": "markdown",
      "source": [
        "### IIIFマニフェストファイルのURLを指定する場合\n",
        "\n",
        "- url: IIIFマニフェストファイルのURL\n",
        "- output_dir: 出力するフォルダへのパス\n",
        "- ruby: ルビのテキスト化を行うか否か\n",
        "- process_size: 処理するcanvas数。-1を指定するとすべてのcanvasを処理対象とする。負荷軽減のため、初期値は5に設定しています。\n",
        "- sleep_time: 画像ダウンロードの間隔（秒数）\n",
        "\n",
        "入力サンプル：「校異源氏物語」（国立国会図書館所蔵）"
      ],
      "metadata": {
        "id": "LhMvDLsXUZde"
      }
    },
    {
      "cell_type": "code",
      "source": [
        "#@title 設定\n",
        "\n",
        "url = \"https://www.dl.ndl.go.jp/api/iiif/3437686/manifest.json\" #@param {type:\"string\"}\n",
        "output_dir = \"/content/drive/MyDrive/ndl_ocr/output/iiif\" #@param {type:\"string\"}\n",
        "process = \"\\u3059\\u3079\\u3066: \\u30CE\\u30C9\\u5143\\u5206\\u5272,\\u50BE\\u304D\\u88DC\\u6B63,\\u30EC\\u30A4\\u30A2\\u30A6\\u30C8\\u62BD\\u51FA,\\u6587\\u5B57\\u8A8D\\u8B58(OCR)\" #@param [\"\\u3059\\u3079\\u3066: \\u30CE\\u30C9\\u5143\\u5206\\u5272,\\u50BE\\u304D\\u88DC\\u6B63,\\u30EC\\u30A4\\u30A2\\u30A6\\u30C8\\u62BD\\u51FA,\\u6587\\u5B57\\u8A8D\\u8B58(OCR)\", \"\\u50BE\\u304D\\u88DC\\u6B63,\\u30EC\\u30A4\\u30A2\\u30A6\\u30C8\\u62BD\\u51FA,\\u6587\\u5B57\\u8A8D\\u8B58(OCR)\", \"\\u30EC\\u30A4\\u30A2\\u30A6\\u30C8\\u62BD\\u51FA,\\u6587\\u5B57\\u8A8D\\u8B58(OCR)\", \"\\u6587\\u5B57\\u8A8D\\u8B58(OCR)\"]\n",
        "ruby = False #@param {type:\"boolean\"}\n",
        "\n",
        "process_size =   5#@param {type:\"number\"}\n",
        "sleep_time =   1#@param {type:\"number\"}\n",
        "\n",
        "ins = Task.iiif(url, output_dir, process, ruby, process_size, sleep_time)\n",
        "message(ins)"
      ],
      "metadata": {
        "id": "tPJ9M9_YJ6fq",
        "cellView": "form"
      },
      "execution_count": null,
      "outputs": []
    }
  ]
}
